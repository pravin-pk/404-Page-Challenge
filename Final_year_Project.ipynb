{
  "nbformat": 4,
  "nbformat_minor": 0,
  "metadata": {
    "colab": {
      "provenance": [],
      "include_colab_link": true
    },
    "kernelspec": {
      "name": "python3",
      "display_name": "Python 3"
    },
    "language_info": {
      "name": "python"
    },
    "gpuClass": "standard"
  },
  "cells": [
    {
      "cell_type": "markdown",
      "metadata": {
        "id": "view-in-github",
        "colab_type": "text"
      },
      "source": [
        "<a href=\"https://colab.research.google.com/github/pravin-pk/404-Page-Challenge/blob/main/Final_year_Project.ipynb\" target=\"_parent\"><img src=\"https://colab.research.google.com/assets/colab-badge.svg\" alt=\"Open In Colab\"/></a>"
      ]
    },
    {
      "cell_type": "code",
      "execution_count": null,
      "metadata": {
        "id": "NfSTP8j3A6qv"
      },
      "outputs": [],
      "source": [
        "import tensorflow as tf\n",
        "import numpy as np"
      ]
    },
    {
      "cell_type": "code",
      "source": [
        "(x_train, _), (x_test, _) = tf.keras.datasets.mnist.load_data()"
      ],
      "metadata": {
        "id": "AQ7yAujQBE99"
      },
      "execution_count": null,
      "outputs": []
    },
    {
      "cell_type": "code",
      "source": [
        "x_train = x_train.astype('float32') / 255.\n",
        "x_test = x_test.astype('float32') / 255.\n",
        "x_train = x_train.reshape((len(x_train), np.prod(x_train.shape[1:])))\n",
        "x_test = x_test.reshape((len(x_test), np.prod(x_test.shape[1:])))\n",
        "print(x_train.shape)\n",
        "print(x_test.shape)"
      ],
      "metadata": {
        "id": "1KeqL__MBqau"
      },
      "execution_count": null,
      "outputs": []
    },
    {
      "cell_type": "code",
      "source": [
        "model = tf.keras.models.Sequential([\n",
        "#  tf.keras.layers.Flatten(input_shape=(28,28)),\n",
        " tf.keras.layers.Dense(784, activation='relu',input_shape=(784,)),\n",
        " tf.keras.layers.Dense(256, activation='relu'),\n",
        "#  tf.keras.layers.Dropout(0.2),\n",
        " tf.keras.layers.Dense(128, activation='relu'),\n",
        " tf.keras.layers.Dense(32, activation='relu'),\n",
        " tf.keras.layers.Dense(8)\n",
        "])"
      ],
      "metadata": {
        "id": "dri-A7XPMQCy"
      },
      "execution_count": null,
      "outputs": []
    },
    {
      "cell_type": "code",
      "source": [
        "model.compile(optimizer='adam', loss='binary_crossentropy')"
      ],
      "metadata": {
        "id": "8zIiyyR1OJLF"
      },
      "execution_count": null,
      "outputs": []
    },
    {
      "cell_type": "code",
      "source": [
        "model.summary()"
      ],
      "metadata": {
        "id": "NrgtL7fdod-r"
      },
      "execution_count": null,
      "outputs": []
    },
    {
      "cell_type": "code",
      "source": [
        "# model.fit(x_train, x_train, epochs=10)\n"
      ],
      "metadata": {
        "id": "iW8z_xfLOZvu"
      },
      "execution_count": null,
      "outputs": []
    },
    {
      "cell_type": "markdown",
      "source": [
        "------"
      ],
      "metadata": {
        "id": "3ZL24K33tIyP"
      }
    },
    {
      "cell_type": "code",
      "source": [
        "# !pip install tensorflow==2.10.0"
      ],
      "metadata": {
        "id": "_6Nl0b3EK7rU"
      },
      "execution_count": null,
      "outputs": []
    },
    {
      "cell_type": "markdown",
      "source": [
        "-----"
      ],
      "metadata": {
        "id": "RbZb2ArCB4qk"
      }
    },
    {
      "cell_type": "code",
      "source": [
        "import tensorflow as tf"
      ],
      "metadata": {
        "id": "9bvGj1Dkv4wj"
      },
      "execution_count": null,
      "outputs": []
    },
    {
      "cell_type": "code",
      "source": [
        "tf.__version__"
      ],
      "metadata": {
        "id": "A2_4H8mBwunZ"
      },
      "execution_count": null,
      "outputs": []
    },
    {
      "cell_type": "code",
      "source": [
        "from google.colab import drive\n",
        "drive.mount('/content/drive')"
      ],
      "metadata": {
        "id": "L9IZsx8Grfpw"
      },
      "execution_count": null,
      "outputs": []
    },
    {
      "cell_type": "code",
      "source": [
        "# !rm -rf 'ROI'"
      ],
      "metadata": {
        "id": "JoO5wwwIClE4"
      },
      "execution_count": null,
      "outputs": []
    },
    {
      "cell_type": "code",
      "source": [
        "from zipfile import ZipFile\n",
        "# PUT YOUR LOCAL FILE PATH HERE\n",
        "with ZipFile('./drive/MyDrive/Final Year Project/Datasets/ROI.zip', 'r') as zipObj:\n",
        "   # Extract a specific file from zip file\n",
        "   zipObj.extractall('./')"
      ],
      "metadata": {
        "id": "B1aUtCroJnPQ"
      },
      "execution_count": null,
      "outputs": []
    },
    {
      "cell_type": "code",
      "source": [
        "# image_generator = ImageDataGenerator(rescale=1.0/255)"
      ],
      "metadata": {
        "id": "OtyqpSZyB-T4"
      },
      "execution_count": null,
      "outputs": []
    },
    {
      "cell_type": "code",
      "source": [
        "# palm_train = image_generator.flow_from_directory('./IITD_dataset/', class_mode='sparse')"
      ],
      "metadata": {
        "id": "MrA8otq9FBuh"
      },
      "execution_count": null,
      "outputs": []
    },
    {
      "cell_type": "code",
      "source": [
        "# import numpy as np\n",
        "# from PIL import Image\n",
        "# import glob\n",
        "\n",
        "# images = []\n",
        "# for file in glob.glob('./Segmented/Right/*.JPG'):\n",
        "#     image = Image.open(file).convert('L')\n",
        "#     numpy_array = np.array(image)\n",
        "#     images.append(numpy_array)\n",
        "# for file in glob.glob('./Segmented/Left/*.JPG'):\n",
        "#     image = Image.open(file).convert('L')\n",
        "#     numpy_array = np.array(image)\n",
        "#     images.append(numpy_array)\n",
        "\n",
        "# palm_arrays = np.array(images)"
      ],
      "metadata": {
        "id": "dIXcAsRWR6Wh"
      },
      "execution_count": null,
      "outputs": []
    },
    {
      "cell_type": "code",
      "source": [
        "import os\n",
        "import shutil\n",
        "import re\n",
        "\n",
        "# Source and destination directories\n",
        "dest_dir = './ROI/allImages/'\n",
        "os.makedirs(dest_dir)\n",
        "\n",
        "# Regex pattern to match specific files\n",
        "pattern = re.compile(r'\\d{3}_\\d\\.JPG')\n",
        "\n",
        "# Loop through files in source directory\n",
        "for file in os.listdir('./ROI/Right/'):\n",
        "    # Check if file matches pattern\n",
        "    if pattern.match(file):\n",
        "        # Move file to destination directory\n",
        "        shutil.copy(os.path.join('./ROI/Right/', file), os.path.join(dest_dir,f'Right_{file}'))\n",
        "\n",
        "# Loop through files in source directory\n",
        "for file in os.listdir('./ROI/Left/'):\n",
        "    # Check if file matches pattern\n",
        "    if pattern.match(file):\n",
        "        # Move file to destination directory\n",
        "        shutil.copy(os.path.join('./ROI/Left/', file), os.path.join(dest_dir,f'Left_{file}'))"
      ],
      "metadata": {
        "id": "mO4AC4hWcL-i"
      },
      "execution_count": null,
      "outputs": []
    },
    {
      "cell_type": "code",
      "source": [
        "import cv2\n",
        "import os\n",
        "import matplotlib.pyplot as plt\n",
        "import numpy as np\n",
        "%matplotlib inline\n",
        "\n",
        "# Initialize list to store images\n",
        "images = []\n",
        "\n",
        "# for filename in os.listdir(\"./ROI/Left/\"):\n",
        "#     # Read image\n",
        "#     img = cv2.imread(os.path.join(\"./ROI/Left/\",filename), 0)\n",
        "    \n",
        "#     # Append image to list\n",
        "#     images.append(img)\n",
        "# for filename in os.listdir(\"./ROI/Right/\"):\n",
        "#     # Read image\n",
        "#     img = cv2.imread(os.path.join(\"./ROI/Right/\",filename), 0)\n",
        "    \n",
        "#     # Append image to list\n",
        "#     images.append(img)\n",
        "\n",
        "\n",
        "# Loop through images in directory\n",
        "filenames = []\n",
        "for filename in os.listdir(\"./ROI/allImages/\"):\n",
        "    filenames.append(filename)\n",
        "    # Read image\n",
        "    img = cv2.imread(os.path.join(\"./ROI/allImages/\",filename), 0)\n",
        "    \n",
        "    # Append image to list\n",
        "    images.append(img)\n",
        "\n",
        "palm_arrays = np.array(images)"
      ],
      "metadata": {
        "id": "TxedaQ8Q8M3p"
      },
      "execution_count": null,
      "outputs": []
    },
    {
      "cell_type": "code",
      "source": [
        "palm_arrays.shape"
      ],
      "metadata": {
        "id": "xOsGVNP_d1h0"
      },
      "execution_count": null,
      "outputs": []
    },
    {
      "cell_type": "code",
      "source": [
        "x_train = palm_arrays[:2400]\n",
        "x_test = palm_arrays[2400:]\n",
        "print(x_train.shape)\n",
        "print(x_test.shape)"
      ],
      "metadata": {
        "id": "zvhF6smKUzj_"
      },
      "execution_count": null,
      "outputs": []
    },
    {
      "cell_type": "code",
      "source": [
        "plt.imshow(x_train[0], cmap='gray')"
      ],
      "metadata": {
        "id": "kz_56yuo7t62"
      },
      "execution_count": null,
      "outputs": []
    },
    {
      "cell_type": "code",
      "source": [
        "import cv2\n",
        "plt.imshow(cv2.cvtColor(x_train[0], cv2.COLOR_BGR2RGB))"
      ],
      "metadata": {
        "id": "blTV-Hjy7CEh"
      },
      "execution_count": null,
      "outputs": []
    },
    {
      "cell_type": "code",
      "source": [
        "x_train = x_train.astype('float32') / 255.\n",
        "x_test = x_test.astype('float32') / 255.\n",
        "# x_train = x_train.reshape((len(x_train), np.prod(x_train.shape[1:])))\n",
        "# x_test = x_test.reshape((len(x_test), np.prod(x_test.shape[1:])))\n",
        "x_train = x_train.reshape(-1, 150, 150, 1)\n",
        "x_test = x_test.reshape(-1, 150, 150, 1)\n",
        "print(x_train.shape)\n",
        "print(x_test.shape)"
      ],
      "metadata": {
        "id": "LMOPw8QnVLBi"
      },
      "execution_count": null,
      "outputs": []
    },
    {
      "cell_type": "code",
      "source": [
        "import tensorflow as tf\n",
        "from tensorflow import keras\n",
        "\n",
        "input_img = keras.Input(shape=(150,150,1)) # shape = (width, height, channels)\n",
        "encoded = keras.layers.Conv2D(7, (3,3), activation='relu', padding='same')(input_img)\n",
        "encoded = keras.layers.MaxPooling2D((2,2))(encoded)\n",
        "encoded = keras.layers.Conv2D(9, (3,3), activation='relu', padding='same')(encoded)\n",
        "encoded = keras.layers.MaxPooling2D((3,3))(encoded)\n",
        "# encoded = keras.layers.Conv2D(1, (3,3), activation='relu', padding='same')(encoded)\n",
        "encoded = keras.layers.Flatten()(encoded)\n",
        "encoded = keras.layers.Dropout(0.3)(encoded)\n",
        "encoded = keras.layers.Dense(24*24, activation='relu')(encoded)\n",
        "encoded = keras.layers.Dense(256, activation='relu')(encoded)\n",
        "# encoded = keras.layers.Dense(64, activation='relu')(encoded)\n",
        "encoded = keras.layers.Dense(32, activation='relu')(encoded)\n",
        "\n",
        "decoded_dense0 = keras.layers.Dense(32, activation='relu')(encoded)\n",
        "# decoded_dense1 = keras.layers.Dense(64, activation='relu')(decoded_dense0)\n",
        "decoded_dense2 = keras.layers.Dense(256, activation='relu')(decoded_dense0)\n",
        "decoded_dense3 = keras.layers.Dense(25*25, activation='relu')(decoded_dense2)\n",
        "decoded_reshaped = keras.layers.Reshape((25,25,1))(decoded_dense3)\n",
        "decoded_conv0 = keras.layers.Conv2D(9, (3,3), activation='relu', padding='same')(decoded_reshaped)\n",
        "decoded_upSample0 = keras.layers.UpSampling2D((3,3))(decoded_conv0)\n",
        "decoded_conv1 = keras.layers.Conv2D(7, (3,3), activation='relu', padding='same')(decoded_upSample0)\n",
        "decoded_upSample1 = keras.layers.UpSampling2D((2,2))(decoded_conv1)\n",
        "decoded = keras.layers.Conv2D(1, (3,3), activation='relu', padding='same')(decoded_upSample1)\n",
        "\n",
        "\n",
        "autoencoder = keras.Model(input_img, decoded)"
      ],
      "metadata": {
        "id": "W10ZIJ6wHHqE"
      },
      "execution_count": null,
      "outputs": []
    },
    {
      "cell_type": "code",
      "source": [
        "# Encoder Model\n",
        "encoder = keras.Model(input_img, encoded)"
      ],
      "metadata": {
        "id": "Zazy6QF8QvHA"
      },
      "execution_count": null,
      "outputs": []
    },
    {
      "cell_type": "code",
      "source": [
        "# Decoder Model\n",
        "# encoded_inputs = keras.Input(shape=(64,))\n",
        "# decoded_layers = decoded[-8]\n",
        "\n",
        "# decoder = keras.Model(encoded_inputs, decoded_layers)"
      ],
      "metadata": {
        "id": "asVJl-w1AueC"
      },
      "execution_count": null,
      "outputs": []
    },
    {
      "cell_type": "code",
      "source": [
        "encoder.layers"
      ],
      "metadata": {
        "id": "R4xEcuMdtL16"
      },
      "execution_count": null,
      "outputs": []
    },
    {
      "cell_type": "code",
      "source": [
        "# encoder.compile(optimizer='adam', loss=tf.keras.losses.mae)"
      ],
      "metadata": {
        "id": "P8N_Vzx5PRBB"
      },
      "execution_count": null,
      "outputs": []
    },
    {
      "cell_type": "code",
      "source": [
        "autoencoder.compile(optimizer='adam', loss=tf.keras.losses.binary_crossentropy)"
      ],
      "metadata": {
        "id": "BQU_zqEfQv_j"
      },
      "execution_count": null,
      "outputs": []
    },
    {
      "cell_type": "code",
      "source": [
        "autoencoder.summary()"
      ],
      "metadata": {
        "id": "D5ol9PHzQzOi"
      },
      "execution_count": null,
      "outputs": []
    },
    {
      "cell_type": "code",
      "source": [
        "autoencoder.fit(x_train, x_train, epochs=10, shuffle=True, validation_data=(x_test,x_test))"
      ],
      "metadata": {
        "id": "YJCyc90lQ1E_"
      },
      "execution_count": null,
      "outputs": []
    },
    {
      "cell_type": "code",
      "source": [
        "plt.plot(autoencoder.history.history['loss'])\n",
        "plt.plot(autoencoder.history.history['val_loss'])\n",
        "plt.title('Model Accuracy')\n",
        "plt.ylabel('loss')\n",
        "plt.xlabel('Epoch')\n",
        "plt.legend(['Train', 'Validation'], loc='upper left')\n",
        "plt.show()"
      ],
      "metadata": {
        "id": "kIKOc9SocNoV"
      },
      "execution_count": null,
      "outputs": []
    },
    {
      "cell_type": "code",
      "source": [
        "encoded_palms = encoder.predict(x_test)"
      ],
      "metadata": {
        "id": "lbU8sKauXT0L"
      },
      "execution_count": null,
      "outputs": []
    },
    {
      "cell_type": "code",
      "source": [
        "encoded_palms.shape"
      ],
      "metadata": {
        "id": "K5nrtdS-atOm"
      },
      "execution_count": null,
      "outputs": []
    },
    {
      "cell_type": "code",
      "source": [
        "encoded_palms[9]"
      ],
      "metadata": {
        "id": "-zRMvA3RaxBK"
      },
      "execution_count": null,
      "outputs": []
    },
    {
      "cell_type": "code",
      "source": [
        "encoder.save('savedModel/model/0000001')"
      ],
      "metadata": {
        "id": "TA9g0emPdqD6"
      },
      "execution_count": null,
      "outputs": []
    },
    {
      "cell_type": "code",
      "source": [
        "import tarfile\n",
        "import os\n",
        "\n",
        "def make_tarfile(output_filename, source_dir):\n",
        "    with tarfile.open(output_filename, \"w:gz\") as tar:\n",
        "        tar.add(source_dir, arcname=os.path.basename(source_dir))\n",
        "\n",
        "# make_tarfile(\"destination\", \"source\")\n",
        "# CHANGE THE DESTINATION LOCATION AND UPLOAD THE TAR FILE TO DRIVE\n",
        "make_tarfile(\"./drive/MyDrive/Final Year Project/Datasets/savedModel/model.tar.gz\", \"./savedModel/model/\")"
      ],
      "metadata": {
        "id": "3QSsr3GKRIDI"
      },
      "execution_count": null,
      "outputs": []
    },
    {
      "cell_type": "code",
      "source": [
        "# !zip -r ./savedModel/palm_encoder.zip ./savedModel/encoder_conv_model"
      ],
      "metadata": {
        "id": "xtcbdbE48fZ4"
      },
      "execution_count": null,
      "outputs": []
    },
    {
      "cell_type": "code",
      "source": [
        "# from google.colab import files\n",
        "# files.download(\"./savedModel/model.tar.gz\")"
      ],
      "metadata": {
        "id": "Lxh0_ots9Af_"
      },
      "execution_count": null,
      "outputs": []
    },
    {
      "cell_type": "code",
      "source": [],
      "metadata": {
        "id": "GvlW07Sy-rrl"
      },
      "execution_count": null,
      "outputs": []
    },
    {
      "cell_type": "code",
      "source": [
        "img = cv2.imread('./ROI/Right/003_3.JPG', 0)\n",
        "palm = np.array(img.astype('float32')/255.0)\n",
        "\n",
        "normal = encoder.predict(palm.reshape(-1, 150, 150, 1))"
      ],
      "metadata": {
        "id": "WnxyHFbMhRnL"
      },
      "execution_count": null,
      "outputs": []
    },
    {
      "cell_type": "code",
      "source": [
        "plt.imshow(palm, cmap='gray')\n",
        "print(normal)"
      ],
      "metadata": {
        "id": "6tZNOSmBr-lz"
      },
      "execution_count": null,
      "outputs": []
    },
    {
      "cell_type": "code",
      "source": [
        "img = cv2.imread('./ROI/Right/008_3.JPG', 0)\n",
        "palm = np.array(img.astype('float32')/255.0)\n",
        "\n",
        "abnormal = encoder.predict(palm.reshape(-1, 150, 150, 1))"
      ],
      "metadata": {
        "id": "MHFS4EmCg7BW"
      },
      "execution_count": null,
      "outputs": []
    },
    {
      "cell_type": "code",
      "source": [
        "plt.imshow(palm, cmap='gray')\n",
        "print(normal)"
      ],
      "metadata": {
        "id": "Lz_yJnCCsigQ"
      },
      "execution_count": null,
      "outputs": []
    },
    {
      "cell_type": "code",
      "source": [
        "np.mean(np.abs(normal - abnormal))"
      ],
      "metadata": {
        "id": "DxvbvZhshGtI"
      },
      "execution_count": null,
      "outputs": []
    },
    {
      "cell_type": "code",
      "source": [
        "fig, ax = plt.subplots(1,3)\n",
        "img = cv2.imread('./ROI/Left/005_2.JPG', 0)\n",
        "palm = np.array(img.astype('float32')/255.0)\n",
        "ax[0].imshow(palm, cmap='gray')\n",
        "ax[0].set_title(\"Original\")\n",
        "\n",
        "auto = autoencoder.predict(palm.reshape(-1, 150, 150, 1))\n",
        "# auto = decoder.predict(encoder.predict(palm.reshape(-1,150,150,1)))\n",
        "auto = auto.reshape(150,150)\n",
        "ax[1].imshow(auto, cmap='gray')\n",
        "ax[1].set_title(\"AutoEncoder Output\")\n",
        "\n",
        "encoded_img = encoder.predict(palm.reshape(-1, 150, 150, 1))\n",
        "encoded_img = encoded_img.reshape(4,8)\n",
        "ax[2].imshow(encoded_img, cmap='gray')\n",
        "ax[2].set_title(\"Encoder Output\")\n",
        "\n",
        "plt.show()"
      ],
      "metadata": {
        "id": "l4WL7kMIr3zs"
      },
      "execution_count": null,
      "outputs": []
    },
    {
      "cell_type": "code",
      "source": [
        "plt.imshow(auto, cmap='gray')"
      ],
      "metadata": {
        "id": "IfXBJidS1IY9"
      },
      "execution_count": null,
      "outputs": []
    },
    {
      "cell_type": "code",
      "source": [
        "# img = x_test[80].reshape(-1, 150, 150, 1)\n",
        "# encoder.predict(img)"
      ],
      "metadata": {
        "id": "8Ym7wGBila2Y"
      },
      "execution_count": null,
      "outputs": []
    },
    {
      "cell_type": "markdown",
      "source": [
        "---"
      ],
      "metadata": {
        "id": "5cMzk7emid18"
      }
    },
    {
      "cell_type": "code",
      "source": [
        "model = tf.keras.models.load_model('savedModel/model/0000001')"
      ],
      "metadata": {
        "id": "gS-3utwjkxyt",
        "colab": {
          "base_uri": "https://localhost:8080/"
        },
        "outputId": "ea3f1026-4b75-4cfc-a575-19f47e34c28c"
      },
      "execution_count": 139,
      "outputs": [
        {
          "output_type": "stream",
          "name": "stderr",
          "text": [
            "WARNING:tensorflow:No training configuration found in save file, so the model was *not* compiled. Compile it manually.\n"
          ]
        }
      ]
    },
    {
      "cell_type": "code",
      "source": [
        "tests = model.predict(x_test)"
      ],
      "metadata": {
        "colab": {
          "base_uri": "https://localhost:8080/"
        },
        "id": "OSLDYkVI0v81",
        "outputId": "ec899c42-8dd8-4ba2-cd2a-874a4cc6b22e"
      },
      "execution_count": 140,
      "outputs": [
        {
          "output_type": "stream",
          "name": "stdout",
          "text": [
            "7/7 [==============================] - 3s 351ms/step\n"
          ]
        }
      ]
    },
    {
      "cell_type": "code",
      "source": [
        "tests.shape"
      ],
      "metadata": {
        "colab": {
          "base_uri": "https://localhost:8080/"
        },
        "id": "AsPaTh4603Os",
        "outputId": "47c2a98a-c0de-4c0f-d68e-e309925f6ce4"
      },
      "execution_count": 141,
      "outputs": [
        {
          "output_type": "execute_result",
          "data": {
            "text/plain": [
              "(201, 32)"
            ]
          },
          "metadata": {},
          "execution_count": 141
        }
      ]
    },
    {
      "cell_type": "code",
      "source": [
        "# rm -rf testROI"
      ],
      "metadata": {
        "id": "B4thA4beLvWT"
      },
      "execution_count": 142,
      "outputs": []
    },
    {
      "cell_type": "code",
      "source": [
        "with ZipFile('./drive/MyDrive/Final Year Project/Datasets/testROI.zip', 'r') as zipObj:\n",
        "   # Extract a specific file from zip file\n",
        "   zipObj.extractall('./')\n",
        "\n",
        "testfilenames = []\n",
        "images = []\n",
        "for filename in sorted(os.listdir(\"./testROI\")):\n",
        "    testfilenames.append(filename)\n",
        "    # Read image\n",
        "    img = cv2.imread(os.path.join(\"./testROI/\",filename), 0)\n",
        "    \n",
        "    # Append image to list\n",
        "    images.append(img)\n",
        "\n",
        "palm_arrays = np.array(images)"
      ],
      "metadata": {
        "id": "GTL8Z1xKH5ij"
      },
      "execution_count": 143,
      "outputs": []
    },
    {
      "cell_type": "code",
      "source": [
        "palm_arrays = palm_arrays.astype('float32') / 255.\n",
        "palm_arrays = palm_arrays.reshape(-1, 150, 150, 1)\n",
        "print(palm_arrays.shape)"
      ],
      "metadata": {
        "colab": {
          "base_uri": "https://localhost:8080/"
        },
        "id": "k6miPpv4JaQ6",
        "outputId": "3e139f66-7231-4337-b4ac-dddd1eb0eaf0"
      },
      "execution_count": 144,
      "outputs": [
        {
          "output_type": "stream",
          "name": "stdout",
          "text": [
            "(16, 150, 150, 1)\n"
          ]
        }
      ]
    },
    {
      "cell_type": "code",
      "source": [
        "tests = model.predict(palm_arrays)"
      ],
      "metadata": {
        "colab": {
          "base_uri": "https://localhost:8080/"
        },
        "id": "mCtqRFiUN0Cz",
        "outputId": "e9c6d64e-48dc-4049-abdc-ad15f98e4934"
      },
      "execution_count": 145,
      "outputs": [
        {
          "output_type": "stream",
          "name": "stdout",
          "text": [
            "1/1 [==============================] - 0s 243ms/step\n"
          ]
        }
      ]
    },
    {
      "cell_type": "code",
      "source": [
        "testfilenames"
      ],
      "metadata": {
        "colab": {
          "base_uri": "https://localhost:8080/"
        },
        "id": "ntm9PJBsJaNe",
        "outputId": "b61d5116-7cfc-4122-aa01-55ad5295a289"
      },
      "execution_count": 146,
      "outputs": [
        {
          "output_type": "execute_result",
          "data": {
            "text/plain": [
              "['004_1.JPG',\n",
              " '004_2.JPG',\n",
              " '004_3.JPG',\n",
              " '004_4.JPG',\n",
              " '004_5.JPG',\n",
              " '029_2.JPG',\n",
              " '029_3.JPG',\n",
              " '029_4.JPG',\n",
              " '029_5.JPG',\n",
              " '029_6.JPG',\n",
              " '069_1.JPG',\n",
              " '069_2.JPG',\n",
              " '069_3.JPG',\n",
              " '069_4.JPG',\n",
              " '069_5.JPG',\n",
              " '069_6.JPG']"
            ]
          },
          "metadata": {},
          "execution_count": 146
        }
      ]
    },
    {
      "cell_type": "code",
      "source": [
        "from sklearn.cluster import KMeans\n",
        "\n",
        "kmeans = KMeans(n_clusters=3)\n",
        "kmeans.fit(tests)"
      ],
      "metadata": {
        "colab": {
          "base_uri": "https://localhost:8080/",
          "height": 129
        },
        "id": "1ugYpnaP0-f1",
        "outputId": "b9059508-449c-4e2d-ed4f-48aed592da63"
      },
      "execution_count": 147,
      "outputs": [
        {
          "output_type": "stream",
          "name": "stderr",
          "text": [
            "/usr/local/lib/python3.9/dist-packages/sklearn/cluster/_kmeans.py:870: FutureWarning: The default value of `n_init` will change from 10 to 'auto' in 1.4. Set the value of `n_init` explicitly to suppress the warning\n",
            "  warnings.warn(\n"
          ]
        },
        {
          "output_type": "execute_result",
          "data": {
            "text/plain": [
              "KMeans(n_clusters=3)"
            ],
            "text/html": [
              "<style>#sk-container-id-18 {color: black;background-color: white;}#sk-container-id-18 pre{padding: 0;}#sk-container-id-18 div.sk-toggleable {background-color: white;}#sk-container-id-18 label.sk-toggleable__label {cursor: pointer;display: block;width: 100%;margin-bottom: 0;padding: 0.3em;box-sizing: border-box;text-align: center;}#sk-container-id-18 label.sk-toggleable__label-arrow:before {content: \"▸\";float: left;margin-right: 0.25em;color: #696969;}#sk-container-id-18 label.sk-toggleable__label-arrow:hover:before {color: black;}#sk-container-id-18 div.sk-estimator:hover label.sk-toggleable__label-arrow:before {color: black;}#sk-container-id-18 div.sk-toggleable__content {max-height: 0;max-width: 0;overflow: hidden;text-align: left;background-color: #f0f8ff;}#sk-container-id-18 div.sk-toggleable__content pre {margin: 0.2em;color: black;border-radius: 0.25em;background-color: #f0f8ff;}#sk-container-id-18 input.sk-toggleable__control:checked~div.sk-toggleable__content {max-height: 200px;max-width: 100%;overflow: auto;}#sk-container-id-18 input.sk-toggleable__control:checked~label.sk-toggleable__label-arrow:before {content: \"▾\";}#sk-container-id-18 div.sk-estimator input.sk-toggleable__control:checked~label.sk-toggleable__label {background-color: #d4ebff;}#sk-container-id-18 div.sk-label input.sk-toggleable__control:checked~label.sk-toggleable__label {background-color: #d4ebff;}#sk-container-id-18 input.sk-hidden--visually {border: 0;clip: rect(1px 1px 1px 1px);clip: rect(1px, 1px, 1px, 1px);height: 1px;margin: -1px;overflow: hidden;padding: 0;position: absolute;width: 1px;}#sk-container-id-18 div.sk-estimator {font-family: monospace;background-color: #f0f8ff;border: 1px dotted black;border-radius: 0.25em;box-sizing: border-box;margin-bottom: 0.5em;}#sk-container-id-18 div.sk-estimator:hover {background-color: #d4ebff;}#sk-container-id-18 div.sk-parallel-item::after {content: \"\";width: 100%;border-bottom: 1px solid gray;flex-grow: 1;}#sk-container-id-18 div.sk-label:hover label.sk-toggleable__label {background-color: #d4ebff;}#sk-container-id-18 div.sk-serial::before {content: \"\";position: absolute;border-left: 1px solid gray;box-sizing: border-box;top: 0;bottom: 0;left: 50%;z-index: 0;}#sk-container-id-18 div.sk-serial {display: flex;flex-direction: column;align-items: center;background-color: white;padding-right: 0.2em;padding-left: 0.2em;position: relative;}#sk-container-id-18 div.sk-item {position: relative;z-index: 1;}#sk-container-id-18 div.sk-parallel {display: flex;align-items: stretch;justify-content: center;background-color: white;position: relative;}#sk-container-id-18 div.sk-item::before, #sk-container-id-18 div.sk-parallel-item::before {content: \"\";position: absolute;border-left: 1px solid gray;box-sizing: border-box;top: 0;bottom: 0;left: 50%;z-index: -1;}#sk-container-id-18 div.sk-parallel-item {display: flex;flex-direction: column;z-index: 1;position: relative;background-color: white;}#sk-container-id-18 div.sk-parallel-item:first-child::after {align-self: flex-end;width: 50%;}#sk-container-id-18 div.sk-parallel-item:last-child::after {align-self: flex-start;width: 50%;}#sk-container-id-18 div.sk-parallel-item:only-child::after {width: 0;}#sk-container-id-18 div.sk-dashed-wrapped {border: 1px dashed gray;margin: 0 0.4em 0.5em 0.4em;box-sizing: border-box;padding-bottom: 0.4em;background-color: white;}#sk-container-id-18 div.sk-label label {font-family: monospace;font-weight: bold;display: inline-block;line-height: 1.2em;}#sk-container-id-18 div.sk-label-container {text-align: center;}#sk-container-id-18 div.sk-container {/* jupyter's `normalize.less` sets `[hidden] { display: none; }` but bootstrap.min.css set `[hidden] { display: none !important; }` so we also need the `!important` here to be able to override the default hidden behavior on the sphinx rendered scikit-learn.org. See: https://github.com/scikit-learn/scikit-learn/issues/21755 */display: inline-block !important;position: relative;}#sk-container-id-18 div.sk-text-repr-fallback {display: none;}</style><div id=\"sk-container-id-18\" class=\"sk-top-container\"><div class=\"sk-text-repr-fallback\"><pre>KMeans(n_clusters=3)</pre><b>In a Jupyter environment, please rerun this cell to show the HTML representation or trust the notebook. <br />On GitHub, the HTML representation is unable to render, please try loading this page with nbviewer.org.</b></div><div class=\"sk-container\" hidden><div class=\"sk-item\"><div class=\"sk-estimator sk-toggleable\"><input class=\"sk-toggleable__control sk-hidden--visually\" id=\"sk-estimator-id-18\" type=\"checkbox\" checked><label for=\"sk-estimator-id-18\" class=\"sk-toggleable__label sk-toggleable__label-arrow\">KMeans</label><div class=\"sk-toggleable__content\"><pre>KMeans(n_clusters=3)</pre></div></div></div></div></div>"
            ]
          },
          "metadata": {},
          "execution_count": 147
        }
      ]
    },
    {
      "cell_type": "code",
      "source": [
        "kmeans.labels_"
      ],
      "metadata": {
        "colab": {
          "base_uri": "https://localhost:8080/"
        },
        "id": "3d1uTLGw17A5",
        "outputId": "05382a4d-24c1-4b07-8d4b-377ccdc7a976"
      },
      "execution_count": 148,
      "outputs": [
        {
          "output_type": "execute_result",
          "data": {
            "text/plain": [
              "array([1, 1, 1, 2, 2, 0, 0, 0, 2, 0, 1, 2, 2, 0, 2, 2], dtype=int32)"
            ]
          },
          "metadata": {},
          "execution_count": 148
        }
      ]
    },
    {
      "cell_type": "code",
      "source": [
        "for i in range(len(testfilenames)):\n",
        "  print(\"image: \", testfilenames[i], \"cluster: \", kmeans.labels_[i])"
      ],
      "metadata": {
        "colab": {
          "base_uri": "https://localhost:8080/"
        },
        "id": "4NvWG40rmk5u",
        "outputId": "74cdf754-29cd-4514-f478-b2549f021d33"
      },
      "execution_count": 149,
      "outputs": [
        {
          "output_type": "stream",
          "name": "stdout",
          "text": [
            "image:  004_1.JPG cluster:  1\n",
            "image:  004_2.JPG cluster:  1\n",
            "image:  004_3.JPG cluster:  1\n",
            "image:  004_4.JPG cluster:  2\n",
            "image:  004_5.JPG cluster:  2\n",
            "image:  029_2.JPG cluster:  0\n",
            "image:  029_3.JPG cluster:  0\n",
            "image:  029_4.JPG cluster:  0\n",
            "image:  029_5.JPG cluster:  2\n",
            "image:  029_6.JPG cluster:  0\n",
            "image:  069_1.JPG cluster:  1\n",
            "image:  069_2.JPG cluster:  2\n",
            "image:  069_3.JPG cluster:  2\n",
            "image:  069_4.JPG cluster:  0\n",
            "image:  069_5.JPG cluster:  2\n",
            "image:  069_6.JPG cluster:  2\n"
          ]
        }
      ]
    },
    {
      "cell_type": "code",
      "source": [],
      "metadata": {
        "id": "lJwLDUIBqAB0"
      },
      "execution_count": null,
      "outputs": []
    }
  ]
}